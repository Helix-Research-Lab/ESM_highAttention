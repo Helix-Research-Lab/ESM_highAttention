{
 "cells": [
  {
   "cell_type": "code",
   "execution_count": 1,
   "id": "5a32734a",
   "metadata": {},
   "outputs": [],
   "source": [
    "import pickle\n",
    "import numpy as np\n",
    "import matplotlib.pyplot as plt\n",
    "import os\n",
    "import seaborn as sns\n",
    "from scipy.stats import gaussian_kde\n",
    "from Bio import SeqIO\n",
    "from Bio.SeqRecord import SeqRecord\n",
    "from Bio.Align.Applications import MuscleCommandline\n",
    "from Bio.Align.Applications import ClustalOmegaCommandline\n",
    "from pymsaviz import MsaViz, get_msa_testdata\n",
    "import torch\n",
    "import pwlf\n",
    "import math\n",
    "from torch import nn\n",
    "from Bio import AlignIO"
   ]
  },
  {
   "cell_type": "code",
   "execution_count": 2,
   "id": "8740bf53",
   "metadata": {},
   "outputs": [],
   "source": [
    "directory = '/oak/stanford/groups/rbaltman/esm_embeddings/esm2_t33_650M_uniprot_human'\n",
    "fasta_file = '/oak/stanford/groups/rbaltman/esm_embeddings/uniprot_human_full.fasta'"
   ]
  },
  {
   "cell_type": "code",
   "execution_count": 3,
   "id": "719ca6ea",
   "metadata": {},
   "outputs": [],
   "source": [
    "seqs = SeqIO.parse(fasta_file, \"fasta\")\n",
    "protName = []\n",
    "for seqrecord in seqs:\n",
    "    name = seqrecord.id.split('|')[1]\n",
    "    protName.append(name)"
   ]
  },
  {
   "cell_type": "code",
   "execution_count": null,
   "id": "f422a83c",
   "metadata": {},
   "outputs": [],
   "source": [
    "##create column normalized heatmaps for all proteins\n",
    "\n",
    "for prot in protName:\n",
    "    heatmap = []\n",
    "    filename = f'{directory}/attention_matrices_mean_max_perLayer/{prot}.pt'\n",
    "    try:\n",
    "        data = torch.load(filename)\n",
    "    except Exception as e:\n",
    "        print (protId)\n",
    "        print (e)\n",
    "        continue\n",
    "\n",
    "    for layer in range(0,33):\n",
    "        attn_matrix = data[0,0,layer,1:-1,1:-1]\n",
    "        col_list = torch.sum(attn_matrix, dim=0)\n",
    "        col_list_norm = col_list / max(col_list)\n",
    "        heatmap.append(np.round(col_list_norm.numpy(),2))\n",
    "    np.save(f'../data/heatmap/{prot}.npy', heatmap, allow_pickle=True)\n",
    "    \n"
   ]
  },
  {
   "cell_type": "code",
   "execution_count": null,
   "id": "71b7d359",
   "metadata": {},
   "outputs": [],
   "source": [
    "##get LoC and HA sites\n",
    "\n",
    "for prot in protName:\n",
    "    heatmap_filename = '../data/heatmap/{}.npy'.format(prot)\n",
    "    if (os.path.exists(heatmap_filename)):\n",
    "        heatmap = np.load(heatmap_filename)\n",
    "        prot_length = heatmap.shape[1]\n",
    "        theta_list = []\n",
    "        layer_descIndices = {}\n",
    "        val_data =[] \n",
    "        pred_data = []\n",
    "        indices_layer = {}\n",
    "        layer_break = {}\n",
    "        x = [i/prot_length for i in range(0, prot_length)]\n",
    "        for layer in range(0,33):\n",
    "            vec = heatmap[layer, :]\n",
    "            sorted_indices = np.argsort(vec)\n",
    "            sorted_indices_desc = sorted_indices[::-1]\n",
    "            sorted_values_desc = vec[sorted_indices_desc]\n",
    "            indices_layer[layer] = sorted_indices_desc\n",
    "\n",
    "            layer_descIndices[layer] = sorted_indices_desc\n",
    "\n",
    "            pwlf_inst = pwlf.PiecewiseLinFit(x, sorted_values_desc)\n",
    "            breaks = pwlf_inst.fit(2)\n",
    "            #print (f'Layer {layer}, {math.floor(breaks[1]*prot_length)}')\n",
    "\n",
    "            layer_break[layer] = math.floor(breaks[1]*prot_length)\n",
    "            #layer_highAttend[layer] = desc_indices[:math.floor(breaks[1]*prot_length)]\n",
    "\n",
    "            y_hat = pwlf_inst.predict(x)\n",
    "            slopes = pwlf_inst.slopes\n",
    "            m1, m2 = float(slopes[0]), float(slopes[1])\n",
    "            print (f'Layer {layer}, {m1}, {m2}')\n",
    "\n",
    "            theta_deg = math.degrees(math.atan((m2-m1)/(1+(m2*m1))))\n",
    "            theta_list.append(theta_deg)\n",
    "            val_data.append(sorted_values_desc)\n",
    "            pred_data.append(y_hat)\n",
    "\n",
    "with open('../data/prot_HA.pkl', 'wb') as file:\n",
    "    pickle.dump(pid_highAttend, file)\n",
    "with open('../data/prot_impLayer.pkl', 'wb') as file:\n",
    "    pickle.dump(pid_impLayer, file)"
   ]
  }
 ],
 "metadata": {
  "kernelspec": {
   "display_name": "Python [conda env:embed] *",
   "language": "python",
   "name": "conda-env-embed-py"
  },
  "language_info": {
   "codemirror_mode": {
    "name": "ipython",
    "version": 3
   },
   "file_extension": ".py",
   "mimetype": "text/x-python",
   "name": "python",
   "nbconvert_exporter": "python",
   "pygments_lexer": "ipython3",
   "version": "3.8.8"
  }
 },
 "nbformat": 4,
 "nbformat_minor": 5
}
